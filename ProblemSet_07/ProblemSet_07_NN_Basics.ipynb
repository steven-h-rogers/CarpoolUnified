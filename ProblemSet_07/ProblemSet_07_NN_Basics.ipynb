{
  "nbformat": 4,
  "nbformat_minor": 0,
  "metadata": {
    "colab": {
      "provenance": [],
      "include_colab_link": true
    },
    "kernelspec": {
      "name": "python3",
      "display_name": "Python 3"
    }
  },
  "cells": [
    {
      "cell_type": "markdown",
      "metadata": {
        "id": "view-in-github",
        "colab_type": "text"
      },
      "source": [
        "<a href=\"https://colab.research.google.com/github/steven-h-rogers/CarpoolUnified/blob/main/ProblemSet_07/ProblemSet_07_NN_Basics.ipynb\" target=\"_parent\"><img src=\"https://colab.research.google.com/assets/colab-badge.svg\" alt=\"Open In Colab\"/></a>"
      ]
    },
    {
      "cell_type": "markdown",
      "metadata": {
        "id": "SoKGHVI2gK_E"
      },
      "source": [
        "This notebook is part the of Dr. Christoforos Christoforou's course materials. You may not, nor may you knowingly allow others to reproduce or distribute lecture notes, course materials or any of their derivatives without the instructor's express written consent."
      ]
    },
    {
      "cell_type": "markdown",
      "metadata": {
        "id": "FQ8TpYhQ3_V_"
      },
      "source": [
        "# Problem Set 07 - Basics of Neural Network Basics\n",
        "\n",
        "**Professor:** Dr. Christoforos Christoforou\n",
        "\n",
        "In this problem set, you will practice building a basic neural network based on the theory covered and in course and using TensorFlow, an open-source library to help you develop and train ML models. For this problem set, you will need the following library references, which are pre-installed with the colab environment.\n"
      ]
    },
    {
      "cell_type": "code",
      "metadata": {
        "id": "TjBbvzidgTcG"
      },
      "source": [
        "import tensorflow.keras\n",
        "from tensorflow.keras.callbacks import EarlyStopping\n",
        "from tensorflow.keras.layers import Dense, Dropout\n",
        "from tensorflow.keras.datasets import mnist\n",
        "from tensorflow.keras import backend\n",
        "\n",
        "%matplotlib inline\n",
        "import matplotlib.pyplot as plt\n",
        "import numpy as np\n",
        "import pandas as pd"
      ],
      "execution_count": 1,
      "outputs": []
    },
    {
      "cell_type": "markdown",
      "metadata": {
        "id": "oJ8yWvbS5RF1"
      },
      "source": [
        "## Exercise 1: Load and proprocess the dataset.\n",
        "\n",
        "For this example, you will use the MNIST dataset, one of the benchmark image dataset. The dataset comprise images of handwritten digits. It is available in the `tensorflow.keras.dataset` module and can be loaded using the `mnist.load_data()` method. The code below showcases how to load the MINST dataset\n",
        "\n",
        "```python\n",
        "# Load the image dataset\n",
        "(X_train, y_train), (X_test, y_test) = mnist.load_data()\n",
        "```\n",
        "The `X_train` has dimensions (60000, 28,28) representing 60000 images, each 28 by 28 pixels. The first axis corresponds the #images and the rest of the dimensions specify the color intensity for each pixel. Similarly, `X_test` has dimension (10000, 28,28) representing 10000 observations.\n",
        "\n",
        "The `y_train` has dimensions (60000,) with values 0 to 9, representing each of the digit classes.\n",
        "\n",
        "**Task 1.1** In the cell below load the MNIST Dataset.\n"
      ]
    },
    {
      "cell_type": "code",
      "metadata": {
        "id": "RZBcDWg6gn5r",
        "outputId": "8edf7e61-a188-48f3-e996-77db6d633f24",
        "colab": {
          "base_uri": "https://localhost:8080/"
        }
      },
      "source": [
        "# Load the mist dataset\n",
        "(X_train, y_train), (X_test, y_test) = mnist.load_data()\n"
      ],
      "execution_count": 2,
      "outputs": [
        {
          "output_type": "stream",
          "name": "stdout",
          "text": [
            "Downloading data from https://storage.googleapis.com/tensorflow/tf-keras-datasets/mnist.npz\n",
            "11490434/11490434 [==============================] - 0s 0us/step\n"
          ]
        }
      ]
    },
    {
      "cell_type": "markdown",
      "metadata": {
        "id": "xPJImdNQ7B3v"
      },
      "source": [
        "Once you load the dataset, you need to convert the images into a format appropriate for the neural network to operate on them. The pre-processing steps are as follow:\n",
        "\n",
        "* Reshape data array to `channels_last` (i.e. (obs,row,cols,color)) or `channel_first` (i.e. (obs,color,row,cols)) format; depending on what format is supported by the library. Since, tensorflow expects the input vector be be given in a `channel_last` format we need to convert each image to a (obs, row, cols, color) format.\n",
        "* Convert data array to float32.\n",
        "* Normalize data array (i.e. divide by 255)\n",
        "* Convert labels to categorical variables (i.e. one-hot encoding) using the tensorflow.keras.utils.to_categorical(y_train).\n",
        "\n",
        "The code below showcases one why this can be done in python, for a `ndarray` `X_train` , and how to encode a label vector to one-hot encoding.\n",
        "\n",
        "```python\n",
        "# Get the shape of the ndarray\n",
        "(Nobs_train, n_rows, n_cols) = X_train.shape\n",
        "\n",
        "# Reshpep array to (obs,row,cols,color); convert to float and normalize\n",
        "X_train = X_train.reshape(Nobs_train,n_rows,n_cols,1).astype('float32')/255\n",
        "\n",
        "# Convert y_train labels to one-hot encoding\n",
        "y_train = tensorflow.keras.utils.to_categorical(y_train)\n",
        "```\n",
        "**Task 1.2** In the cell below, standardize the X_train, X_test, y_train and y_test, by applying the necessary preprocessing steps outlined above."
      ]
    },
    {
      "cell_type": "code",
      "metadata": {
        "id": "vDR9Xp-w_flG"
      },
      "source": [
        "# Implement task 1.2 in this cell\n",
        "\n",
        "# Get the shape of the ndarray\n",
        "(Nobs_train, n_rows, n_cols) = X_train.shape\n",
        "\n",
        "# Reshpep array to (obs,row,cols,color); convert to float and normalize\n",
        "X_train = X_train.reshape(Nobs_train,n_rows,n_cols,1).astype('float32')/255\n",
        "\n",
        "# Convert y_train labels to one-hot encoding\n",
        "y_train = tensorflow.keras.utils.to_categorical(y_train)\n",
        "y_test = tensorflow.keras.utils.to_categorical(y_test)"
      ],
      "execution_count": 3,
      "outputs": []
    },
    {
      "cell_type": "code",
      "source": [
        "y_train[0,:]\n",
        "y_test[0]"
      ],
      "metadata": {
        "id": "nPEWYKh2U863",
        "outputId": "91b40d60-fd20-4d92-a6a2-bcf49dd207f7",
        "colab": {
          "base_uri": "https://localhost:8080/"
        }
      },
      "execution_count": 4,
      "outputs": [
        {
          "output_type": "execute_result",
          "data": {
            "text/plain": [
              "array([0., 0., 0., 0., 0., 0., 0., 1., 0., 0.], dtype=float32)"
            ]
          },
          "metadata": {},
          "execution_count": 4
        }
      ]
    },
    {
      "cell_type": "markdown",
      "metadata": {
        "id": "aBfBHmUl_iU8"
      },
      "source": [
        "## Exercise 2:Building a Neural Network using high-level Keras API\n",
        "\n",
        "In this introductory example, we will build a neural network using high-level Keras API. For that, you will need several objects provided by the API; which include the `Sequential` model which is defined under the module `tensorflow.keras.models`, and two computational layers, namely the `Flatten` layer and the `Dense` layer, which are defined under the `tensorflow.keras.layers module`. These libraries have been imported at the beginning of the notebook, but to make this section self-contained, we re-import them in the cell below."
      ]
    },
    {
      "cell_type": "code",
      "metadata": {
        "id": "L4aGWJ6yADw5"
      },
      "source": [
        "import tensorflow.keras\n",
        "from tensorflow.keras.models import Sequential\n",
        "from tensorflow.keras.layers import Dense, Flatten\n",
        "import time"
      ],
      "execution_count": 5,
      "outputs": []
    },
    {
      "cell_type": "markdown",
      "metadata": {
        "id": "St9DZ5TUAJaJ"
      },
      "source": [
        "**Defining the neural network architecture**\n",
        "We can define the neural network architecture using the keras API. First, we define a general `Sequential` model and then `add` to it the various computational layer. For our example, we first need to add a `Flatten` layer to convert the 2D image into a 1D vector, and then `add` two dense layers, one layer has 256 nodes; and the second one - which serves as an output layer- has 10 nodes. Each element in the output layer represents one of the categories we are trying to classify (i.e. digits 0 to 9) and its value correspond to the probability the input belong to each class. We can define this architecture using the `Keras API` as follows:\n",
        "\n",
        "```python\n",
        "model = Sequential()\n",
        "model.add(Flatten()) # add a layer to convert the 2D image to a 1D vector\n",
        "model.add(Dense(256,activation='relu'))\n",
        "model.add(Dense(10, activation='softmax'))\n",
        "```\n",
        "Notice, the first `Dense` layer uses the `relu` activation function, and the output `Dense` layer uses the `softmax` activation function. Recall, the softmax normalizes the output vectors so that all entries are positive and sum up to one; thus the resulting output can be thought of as a probability over the categories.\n",
        "\n",
        "**Task 2.1** In the cell below, define the neural network architecture specified in the section above."
      ]
    },
    {
      "cell_type": "code",
      "metadata": {
        "id": "jDZk75uHCcVw"
      },
      "source": [
        "# Implement task 2.1\n",
        "model = Sequential()\n",
        "model.add(Flatten()) # add a layer to convert the 2D image to a 1D vector\n",
        "model.add(Dense(256,activation='relu'))\n",
        "model.add(Dense(10, activation='softmax'))\n"
      ],
      "execution_count": 6,
      "outputs": []
    },
    {
      "cell_type": "markdown",
      "metadata": {
        "id": "rQzhXhLaChGo"
      },
      "source": [
        "**Compile the Neural Network Architecture**\n",
        "Once we define the model, we need to compile it using the `model.compile` method of the API. As part of the compiling, we define can define the following parameters (among others):.\n",
        "\n",
        "* the **loss** function* to use for training the model.\n",
        "* the **optimizer** method to use in optimizing and, typically, we use the `adam` optimizer;\n",
        "* any *metrics* we want to track while fitting the model (i.e. accuracy)\n",
        "\n",
        "In this example, since we are dealing with a multi-class classification, we can set the loss function to be `categorical_crossentropy`. For your reference, the categorical cross entropy (CCE) is calculated as:\n",
        "\n",
        "$$\n",
        "CCE = -\\sum_{c\\in C} y_c log(\\sigma(\\hat{y})_c)\n",
        "$$\n",
        "\n",
        "where $y_c$ is the ground truth value of the c-th element in the output vector (i.e. c-th class), $\\hat{y}_c$ is the c-th element in the predicted output vector, and $\\sigma(.)$ is the `softmax` method. Notice, that the categorical cross entropy implementation in TensorFlow expects the label vector $y$ to be given as a `one-hot-encoding` form.\n",
        "\n",
        "The code below illustrates how to apply the `model.compile` method, to compile the network architecture\n",
        "\n",
        "```python\n",
        "model.compile(loss='categorical_crossentropy', optimizer='adam',metrics=['accuracy'])\n",
        "\n",
        "```\n",
        "\n",
        "**Task 2.2:** Compile the Neural Network Architecture you defined in task 2.1\n",
        "\n"
      ]
    },
    {
      "cell_type": "code",
      "metadata": {
        "id": "tOmFLTE6E2hC"
      },
      "source": [
        "# Use this cell to implement task 2.2\n",
        "model.compile(loss='categorical_crossentropy', optimizer='adam',metrics=['accuracy'])"
      ],
      "execution_count": 7,
      "outputs": []
    },
    {
      "cell_type": "markdown",
      "metadata": {
        "id": "WM_ddqbbE50P"
      },
      "source": [
        "**Training the model**\n",
        "\n",
        "Once we defined and compiled our model, we can train it by calling the `model.fit` method of the API. The `model.fit` expects as input  the training set and a number of fitting configuration parameters. Two commonly used parameters are that of `batch_size` and `epochs`. The code below illustrates how to fit a model.\n",
        "\n",
        "```python\n",
        "  # Batch size: refers to the size of data we use in a single pass;\n",
        "  batch_size = 128\n",
        "\n",
        "  # Epochs, the number of times to iterate over the dataset  \n",
        "  epochs = 15\n",
        "\n",
        "  model.fit(X_train,y_train, batch_size=batch_size, epochs = epochs,validation_data=(X_test,y_test))\n",
        "```\n",
        "**Task 2.3** Train the model by calling the `model.fit` method\n"
      ]
    },
    {
      "cell_type": "code",
      "metadata": {
        "id": "XN8k3VMhF3g1",
        "outputId": "b87a5b27-068c-4396-9a0c-0fec8852e01a",
        "colab": {
          "base_uri": "https://localhost:8080/"
        }
      },
      "source": [
        "# Use this cell in implement task 2.3\n",
        "# Batch size: refers to the size of data we use in a single pass;\n",
        "batch_size = 128\n",
        "\n",
        "# Epochs, the number of times to iterate over the dataset\n",
        "epochs = 15\n",
        "\n",
        "model.fit(X_train,y_train, batch_size=batch_size, epochs = epochs,validation_data=(X_test,y_test))"
      ],
      "execution_count": 8,
      "outputs": [
        {
          "output_type": "stream",
          "name": "stdout",
          "text": [
            "Epoch 1/15\n",
            "469/469 [==============================] - 15s 25ms/step - loss: 0.3088 - accuracy: 0.9141 - val_loss: 23.3057 - val_accuracy: 0.9478\n",
            "Epoch 2/15\n",
            "469/469 [==============================] - 5s 11ms/step - loss: 0.1347 - accuracy: 0.9609 - val_loss: 14.2499 - val_accuracy: 0.9658\n",
            "Epoch 3/15\n",
            "469/469 [==============================] - 5s 11ms/step - loss: 0.0925 - accuracy: 0.9730 - val_loss: 12.8602 - val_accuracy: 0.9708\n",
            "Epoch 4/15\n",
            "469/469 [==============================] - 4s 8ms/step - loss: 0.0672 - accuracy: 0.9805 - val_loss: 11.3280 - val_accuracy: 0.9754\n",
            "Epoch 5/15\n",
            "469/469 [==============================] - 4s 8ms/step - loss: 0.0519 - accuracy: 0.9850 - val_loss: 12.2271 - val_accuracy: 0.9732\n",
            "Epoch 6/15\n",
            "469/469 [==============================] - 5s 11ms/step - loss: 0.0411 - accuracy: 0.9883 - val_loss: 11.6677 - val_accuracy: 0.9756\n",
            "Epoch 7/15\n",
            "469/469 [==============================] - 4s 8ms/step - loss: 0.0330 - accuracy: 0.9906 - val_loss: 12.0352 - val_accuracy: 0.9772\n",
            "Epoch 8/15\n",
            "469/469 [==============================] - 4s 8ms/step - loss: 0.0255 - accuracy: 0.9931 - val_loss: 12.6281 - val_accuracy: 0.9765\n",
            "Epoch 9/15\n",
            "469/469 [==============================] - 5s 10ms/step - loss: 0.0209 - accuracy: 0.9949 - val_loss: 12.4830 - val_accuracy: 0.9785\n",
            "Epoch 10/15\n",
            "469/469 [==============================] - 4s 8ms/step - loss: 0.0169 - accuracy: 0.9961 - val_loss: 13.7631 - val_accuracy: 0.9762\n",
            "Epoch 11/15\n",
            "469/469 [==============================] - 4s 8ms/step - loss: 0.0143 - accuracy: 0.9963 - val_loss: 13.6214 - val_accuracy: 0.9773\n",
            "Epoch 12/15\n",
            "469/469 [==============================] - 5s 11ms/step - loss: 0.0108 - accuracy: 0.9975 - val_loss: 13.9760 - val_accuracy: 0.9783\n",
            "Epoch 13/15\n",
            "469/469 [==============================] - 4s 8ms/step - loss: 0.0082 - accuracy: 0.9985 - val_loss: 15.1201 - val_accuracy: 0.9777\n",
            "Epoch 14/15\n",
            "469/469 [==============================] - 4s 8ms/step - loss: 0.0077 - accuracy: 0.9985 - val_loss: 15.6770 - val_accuracy: 0.9766\n",
            "Epoch 15/15\n",
            "469/469 [==============================] - 5s 11ms/step - loss: 0.0081 - accuracy: 0.9980 - val_loss: 16.8278 - val_accuracy: 0.9771\n"
          ]
        },
        {
          "output_type": "execute_result",
          "data": {
            "text/plain": [
              "<keras.src.callbacks.History at 0x79d44b6223b0>"
            ]
          },
          "metadata": {},
          "execution_count": 8
        }
      ]
    },
    {
      "cell_type": "markdown",
      "metadata": {
        "id": "wscDSydsGWvq"
      },
      "source": [
        "**Evaluating the Network model performance**\n",
        "\n",
        "Once the model has been trained, we can evaluate its performance on a test set by using `model.evaluate` method. The `evaluate` method task as input a validation set and returns a tuple which includes the loss score and an accuracy score. The code below illustrates how to use the evaluate method\n",
        "\n",
        "```python\n",
        "(loss_score, accuracy_score) = model.evaluate(X_test,y_test,verbose=0)\n",
        "```\n",
        "\n",
        "**Task 2.4:** Evaluate the model you trained in task 2.3 and report its accuracy and loss.\n"
      ]
    },
    {
      "cell_type": "code",
      "metadata": {
        "id": "-_hMj5oVHavx",
        "outputId": "b5d2d3e8-dcdc-49db-8296-69c8f26d6210",
        "colab": {
          "base_uri": "https://localhost:8080/"
        }
      },
      "source": [
        "# Use this cell to implement task 2.4\n",
        "(loss_score_orig, accuracy_score_orig) = model.evaluate(X_test,y_test,verbose=0)\n",
        "\n",
        "print(loss_score_orig, accuracy_score_orig)\n"
      ],
      "execution_count": 15,
      "outputs": [
        {
          "output_type": "stream",
          "name": "stdout",
          "text": [
            "16.82775115966797 0.9771000146865845\n"
          ]
        }
      ]
    },
    {
      "cell_type": "markdown",
      "metadata": {
        "id": "MLlxlepHHeek"
      },
      "source": [
        "**Apply the trained model**\n",
        "\n",
        "Once the model is trained, and the evaluation shows an acceptable performance, we can apply the model to make prediction on new unseen data using the `model.predict` method. The `model.predict(X_test)` returns a ndarry of shape (obs, 10) which represents a probability vector over categories. To make a concrete class assignment we can return the class with the hieghest predicted probability. We can identify the entry with the highest probability for each vector by using the `np.argmax` method accross each row (i.e. accross axis 1). The code above illustrates how to do that.\n",
        "\n",
        "```python\n",
        "y_predict = np.argmax(model.predict(X_test),axis=1)\n",
        "```\n",
        "\n",
        "**Task 2.5** Apply the model you trained in task 2.4 on the test set and report its performance. Moreover, identify the first three instances the model misclassifies and display their image; indicating in the title the predicted value.\n"
      ]
    },
    {
      "cell_type": "code",
      "metadata": {
        "id": "P3kDTyA2J9w1",
        "outputId": "4bcef776-3d92-41a1-cbb1-2fad86686244",
        "colab": {
          "base_uri": "https://localhost:8080/"
        }
      },
      "source": [
        "# Use this cell to implement task 2.5\n",
        "y_predict = np.argmax(model.predict(X_test),axis=1)"
      ],
      "execution_count": 10,
      "outputs": [
        {
          "output_type": "stream",
          "name": "stdout",
          "text": [
            "313/313 [==============================] - 1s 3ms/step\n"
          ]
        }
      ]
    },
    {
      "cell_type": "code",
      "source": [
        "incorrect = np.where(y_predict != np.argmax(y_test,axis=1))[0]\n",
        "\n",
        "for i in range(3):\n",
        "  index = incorrect[i]\n",
        "  plt.imshow(X_test[index].reshape(28,28), cmap='gray')\n",
        "  plt.title(f\"Predicted:{y_predict[index]}, Actual: {np.argmax(y_test[index])}\")\n",
        "  plt.show()"
      ],
      "metadata": {
        "id": "9QPPgDGNuu-K",
        "outputId": "afe3992f-ed86-4fa7-e61c-f40df175b2ee",
        "colab": {
          "base_uri": "https://localhost:8080/",
          "height": 1000
        }
      },
      "execution_count": 11,
      "outputs": [
        {
          "output_type": "display_data",
          "data": {
            "text/plain": [
              "<Figure size 640x480 with 1 Axes>"
            ],
            "image/png": "[encoded data removed]"
          },
          "metadata": {}
        },
        {
          "output_type": "display_data",
          "data": {
            "text/plain": [
              "<Figure size 640x480 with 1 Axes>"
            ],
            "image/png": "[encoded data removed]"
          },
          "metadata": {}
        },
        {
          "output_type": "display_data",
          "data": {
            "text/plain": [
              "<Figure size 640x480 with 1 Axes>"
            ],
            "image/png": "[encoded data removed]"
          },
          "metadata": {}
        }
      ]
    },
    {
      "cell_type": "markdown",
      "metadata": {
        "id": "lwVSJlyQKBN-"
      },
      "source": [
        "## Exercise 3\n",
        "In the first to exercises, you reproduced a network architecture provided to you. In this exercise you are expected to create your own architecture to outperform the model from exercise 2. Repeat all the steps including, defining the network architecture; compile your model, train your model and evaluate your model. You are a allowed to use the `Flatten` layer, and as many `Dense` layers as you like (optionally, we might consider using a `Dropout` layer - which we did not discuss yet). Some things you can try to improve your architecture are\n",
        "* Introduce mode Dense layers.\n",
        "* Change the number of nodes in each layer.\n",
        "* Introduce one or more Dropout layers [see an example tutorial](https://machinelearningmastery.com/how-to-reduce-overfitting-with-dropout-regularization-in-keras/)\n"
      ]
    },
    {
      "cell_type": "code",
      "metadata": {
        "id": "7TlzRjKWLwOQ",
        "outputId": "2da9c07a-3933-4ce4-8b66-622bd2e6dbbe",
        "colab": {
          "base_uri": "https://localhost:8080/"
        }
      },
      "source": [
        "import tensorflow.keras\n",
        "from tensorflow.keras.callbacks import EarlyStopping\n",
        "from tensorflow.keras.layers import Dense, Dropout\n",
        "from tensorflow.keras.datasets import mnist\n",
        "from tensorflow.keras import backend\n",
        "\n",
        "%matplotlib inline\n",
        "import matplotlib.pyplot as plt\n",
        "import numpy as np\n",
        "import pandas as pd\n",
        "\n",
        "import tensorflow.keras\n",
        "from tensorflow.keras.models import Sequential\n",
        "from tensorflow.keras.layers import Dense, Flatten\n",
        "import time\n",
        "\n",
        "\n",
        "# Use the cell below to implement Exercise 3. Add more cells as need\n",
        "(X_train, y_train), (X_test, y_test) = mnist.load_data()\n",
        "\n",
        "\n",
        "# Implement task 1.2 in this cell\n",
        "\n",
        "# Get the shape of the ndarray\n",
        "(Nobs_train, n_rows, n_cols) = X_train.shape\n",
        "\n",
        "# Reshpep array to (obs,row,cols,color); convert to float and normalize\n",
        "X_train = X_train.reshape(Nobs_train,n_rows,n_cols,1).astype('float32')/255\n",
        "\n",
        "# Convert y_train labels to one-hot encoding\n",
        "y_train = tensorflow.keras.utils.to_categorical(y_train)\n",
        "y_test = tensorflow.keras.utils.to_categorical(y_test)\n",
        "\n",
        "\n",
        "# Implement task 2.1\n",
        "Steven_model = Sequential()\n",
        "Steven_model.add(Flatten())\n",
        "Steven_model.add(Dense(512, activation='relu'))\n",
        "Steven_model.add(Dropout(0.5))\n",
        "Steven_model.add(Dense(512, activation='relu'))\n",
        "Steven_model.add(Dropout(0.5))\n",
        "Steven_model.add(Dense(10, activation='softmax'))\n",
        "\n",
        "Steven_model.compile(optimizer='adam',\n",
        "              loss='categorical_crossentropy',\n",
        "              metrics=['accuracy'])\n",
        "\n",
        "\n",
        "batch_size = 128\n",
        "epochs = 15\n",
        "\n",
        "Steven_model.fit(X_train,y_train, batch_size=batch_size, epochs = epochs,validation_data=(X_test,y_test))"
      ],
      "execution_count": 20,
      "outputs": [
        {
          "output_type": "stream",
          "name": "stdout",
          "text": [
            "Epoch 1/15\n",
            "469/469 [==============================] - 12s 24ms/step - loss: 0.3525 - accuracy: 0.8917 - val_loss: 18.3261 - val_accuracy: 0.9592\n",
            "Epoch 2/15\n",
            "469/469 [==============================] - 11s 24ms/step - loss: 0.1620 - accuracy: 0.9515 - val_loss: 13.8366 - val_accuracy: 0.9696\n",
            "Epoch 3/15\n",
            "469/469 [==============================] - 11s 24ms/step - loss: 0.1247 - accuracy: 0.9622 - val_loss: 12.3094 - val_accuracy: 0.9738\n",
            "Epoch 4/15\n",
            "469/469 [==============================] - 11s 24ms/step - loss: 0.1095 - accuracy: 0.9664 - val_loss: 13.0310 - val_accuracy: 0.9754\n",
            "Epoch 5/15\n",
            "469/469 [==============================] - 12s 25ms/step - loss: 0.0961 - accuracy: 0.9705 - val_loss: 12.2760 - val_accuracy: 0.9787\n",
            "Epoch 6/15\n",
            "469/469 [==============================] - 11s 23ms/step - loss: 0.0858 - accuracy: 0.9726 - val_loss: 12.0931 - val_accuracy: 0.9795\n",
            "Epoch 7/15\n",
            "469/469 [==============================] - 11s 23ms/step - loss: 0.0779 - accuracy: 0.9754 - val_loss: 12.4970 - val_accuracy: 0.9785\n",
            "Epoch 8/15\n",
            "469/469 [==============================] - 12s 25ms/step - loss: 0.0758 - accuracy: 0.9758 - val_loss: 11.4669 - val_accuracy: 0.9808\n",
            "Epoch 9/15\n",
            "469/469 [==============================] - 11s 24ms/step - loss: 0.0685 - accuracy: 0.9782 - val_loss: 12.9950 - val_accuracy: 0.9806\n",
            "Epoch 10/15\n",
            "469/469 [==============================] - 12s 26ms/step - loss: 0.0663 - accuracy: 0.9785 - val_loss: 12.5855 - val_accuracy: 0.9820\n",
            "Epoch 11/15\n",
            "469/469 [==============================] - 11s 24ms/step - loss: 0.0632 - accuracy: 0.9802 - val_loss: 12.4769 - val_accuracy: 0.9805\n",
            "Epoch 12/15\n",
            "469/469 [==============================] - 11s 24ms/step - loss: 0.0608 - accuracy: 0.9807 - val_loss: 12.1268 - val_accuracy: 0.9837\n",
            "Epoch 13/15\n",
            "469/469 [==============================] - 11s 24ms/step - loss: 0.0566 - accuracy: 0.9822 - val_loss: 13.7331 - val_accuracy: 0.9791\n",
            "Epoch 14/15\n",
            "469/469 [==============================] - 11s 23ms/step - loss: 0.0540 - accuracy: 0.9836 - val_loss: 11.2712 - val_accuracy: 0.9823\n",
            "Epoch 15/15\n",
            "469/469 [==============================] - 11s 24ms/step - loss: 0.0519 - accuracy: 0.9831 - val_loss: 14.6524 - val_accuracy: 0.9810\n"
          ]
        },
        {
          "output_type": "execute_result",
          "data": {
            "text/plain": [
              "<keras.src.callbacks.History at 0x79d448825d20>"
            ]
          },
          "metadata": {},
          "execution_count": 20
        }
      ]
    },
    {
      "cell_type": "markdown",
      "metadata": {
        "id": "RQacnVuoMA2E"
      },
      "source": [
        "## Compare the models  "
      ]
    },
    {
      "cell_type": "code",
      "metadata": {
        "id": "RKLn6IHSLvyx",
        "outputId": "29cae797-abf5-4f55-9aa5-9adaf2a9b56c",
        "colab": {
          "base_uri": "https://localhost:8080/"
        }
      },
      "source": [
        "# Use this cell to report the performance of your network, and compare it to the network in exercise 2.\n",
        "(loss_score_steven, accuracy_score_steven) = Steven_model.evaluate(X_test,y_test,verbose=0)\n",
        "\n",
        "print(\"Steven\",loss_score_steven, accuracy_score_steven, '\\n',\"Orig\", loss_score_orig, accuracy_score_orig)"
      ],
      "execution_count": 24,
      "outputs": [
        {
          "output_type": "stream",
          "name": "stdout",
          "text": [
            "Steven 14.65237045288086 0.9810000061988831 \n",
            " Orig 16.82775115966797 0.9771000146865845\n"
          ]
        }
      ]
    },
    {
      "cell_type": "markdown",
      "metadata": {
        "id": "80gXdanCgZ2v"
      },
      "source": [
        "Copyright Statement: Copyright © 2020 Christoforou. The materials provided by the instructor of this course, including this notebook, are for the use of the students enrolled in the course. Materials are presented in an educational context for personal use and study and should not be shared, distributed, disseminated or sold in print — or digitally — outside the course without permission. You may not, nor may you knowingly allow others to reproduce or distribute lecture notes, course materials as well as any of their derivatives without the instructor's express written consent."
      ]
    },
    {
      "cell_type": "code",
      "metadata": {
        "id": "9k78G2GRgcnf"
      },
      "source": [],
      "execution_count": 13,
      "outputs": []
    }
  ]
}